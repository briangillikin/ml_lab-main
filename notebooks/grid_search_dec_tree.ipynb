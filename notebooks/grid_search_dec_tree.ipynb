{
 "cells": [
  {
   "cell_type": "code",
   "execution_count": 1,
   "metadata": {},
   "outputs": [],
   "source": [
    "# change dir of jupyter notebook session so it can access relative files\n",
    "import os\n",
    "from dotenv import load_dotenv\n",
    "load_dotenv()\n",
    "\n",
    "root_dir = os.getenv(\"ROOT_DIR\")\n",
    "os.chdir(root_dir)"
   ]
  },
  {
   "cell_type": "code",
   "execution_count": 2,
   "metadata": {},
   "outputs": [],
   "source": [
    "import time\n",
    "from sklearn.model_selection import GridSearchCV\n",
    "from ml_lab.models.form_4138_decision_tree import Form4138DecisionTree\n",
    "from ml_lab.train.train_decision_tree import load_data\n",
    "from ml_lab.train.train_decision_tree import train_decision_tree\n",
    "from ml_lab.utils.eval_model import eval_model"
   ]
  },
  {
   "cell_type": "code",
   "execution_count": 3,
   "metadata": {},
   "outputs": [
    {
     "name": "stdout",
     "output_type": "stream",
     "text": [
      "\n",
      "Loading data...\n",
      "Data Loaded!\n"
     ]
    }
   ],
   "source": [
    "model = Form4138DecisionTree()\n",
    "x_train, y_train = load_data()"
   ]
  },
  {
   "cell_type": "code",
   "execution_count": 4,
   "metadata": {},
   "outputs": [
    {
     "data": {
      "text/plain": [
       "40"
      ]
     },
     "execution_count": 4,
     "metadata": {},
     "output_type": "execute_result"
    }
   ],
   "source": [
    "param_grid = {'min_samples_split' : [2,6,10,20],\n",
    "              'max_depth': range(10,110,10)}\n",
    "\n",
    "# This represents the total number of ways we can combine these two parameters\n",
    "len(param_grid['min_samples_split']) * len(param_grid['max_depth']) "
   ]
  },
  {
   "cell_type": "code",
   "execution_count": 5,
   "metadata": {},
   "outputs": [
    {
     "name": "stdout",
     "output_type": "stream",
     "text": [
      "Grid search..\n",
      "Grid search time: 3.012080192565918\n"
     ]
    }
   ],
   "source": [
    "dectree_grid_search = GridSearchCV(model.model, param_grid, cv=3)\n",
    "\n",
    "print(\"Grid search..\")\n",
    "search_time_start = time.time()\n",
    "dectree_grid_search.fit(x_train, y_train)\n",
    "print(\"Grid search time:\", time.time() - search_time_start)"
   ]
  },
  {
   "cell_type": "code",
   "execution_count": 6,
   "metadata": {},
   "outputs": [
    {
     "name": "stdout",
     "output_type": "stream",
     "text": [
      "{'max_depth': 50, 'min_samples_split': 2}\n"
     ]
    }
   ],
   "source": [
    "config = dectree_grid_search.best_params_\n",
    "print(config)"
   ]
  },
  {
   "cell_type": "code",
   "execution_count": 7,
   "metadata": {},
   "outputs": [
    {
     "name": "stdout",
     "output_type": "stream",
     "text": [
      "\n",
      "Loading data...\n",
      "Data Loaded!\n",
      "\n",
      "Training Model...\n",
      "\n",
      "Saved model to model_artifacts/4138_decision_tree.pkl\n"
     ]
    }
   ],
   "source": [
    "train_decision_tree(config)"
   ]
  },
  {
   "cell_type": "code",
   "execution_count": 8,
   "metadata": {},
   "outputs": [
    {
     "name": "stdout",
     "output_type": "stream",
     "text": [
      "\n",
      "Eval Metrics for the Form4138DecisionTree model\n",
      "Accuracy:  0.8479\n",
      "Precision: 0.8493\n",
      "Recall:    0.8472\n",
      "F1:        0.8471\n"
     ]
    }
   ],
   "source": [
    "eval_model(model)"
   ]
  },
  {
   "cell_type": "code",
   "execution_count": null,
   "metadata": {},
   "outputs": [],
   "source": []
  }
 ],
 "metadata": {
  "kernelspec": {
   "display_name": "Python 3",
   "language": "python",
   "name": "python3"
  },
  "language_info": {
   "codemirror_mode": {
    "name": "ipython",
    "version": 3
   },
   "file_extension": ".py",
   "mimetype": "text/x-python",
   "name": "python",
   "nbconvert_exporter": "python",
   "pygments_lexer": "ipython3",
   "version": "3.10.10"
  },
  "orig_nbformat": 4,
  "vscode": {
   "interpreter": {
    "hash": "e1ef5b038dd93ba3ee0a8722b615736fd2d26f35539042754a5b2272c6d1a8f6"
   }
  }
 },
 "nbformat": 4,
 "nbformat_minor": 2
}
